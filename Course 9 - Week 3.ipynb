{
 "cells": [
  {
   "cell_type": "code",
   "execution_count": null,
   "metadata": {},
   "outputs": [],
   "source": [
    "import pandas as pd"
   ]
  },
  {
   "cell_type": "code",
   "execution_count": null,
   "metadata": {},
   "outputs": [],
   "source": [
    "from bs4 import BeautifulSoup\n",
    "from urllib.request import urlopen\n",
    "\n",
    "url = 'https://en.wikipedia.org/wiki/List_of_postal_codes_of_Canada:_M'\n",
    "html = urlopen(url)\n",
    "\n",
    "soup = BeautifulSoup(html, 'html.parser')\n",
    "soup.title.text"
   ]
  },
  {
   "cell_type": "code",
   "execution_count": null,
   "metadata": {},
   "outputs": [],
   "source": [
    "soup.table"
   ]
  },
  {
   "cell_type": "code",
   "execution_count": null,
   "metadata": {},
   "outputs": [],
   "source": [
    "#df = pd.DataFrame(soup.table)\n",
    "lst = []\n",
    "table = soup.find_all('table')[0]\n",
    "rows = table.find_all('tr')\n",
    "for tr in rows:\n",
    "    td = tr.find_all('td')\n",
    "    row = [tr.text.strip() for tr in td]\n",
    "    lst.append(row)\n",
    "    \n",
    "df = pd.DataFrame(lst, columns=[\"Postcode\", \"Borough\",\"Neighborhood\"])\n",
    "\n",
    "print(\"Count\", df.count())"
   ]
  },
  {
   "cell_type": "code",
   "execution_count": null,
   "metadata": {},
   "outputs": [],
   "source": [
    "df.head()"
   ]
  },
  {
   "cell_type": "code",
   "execution_count": null,
   "metadata": {},
   "outputs": [],
   "source": [
    "df = df[df[\"Borough\"] != \"Not assigned\" ]\n",
    "print(\"Count\", df.count())\n",
    "df.head(10)\n"
   ]
  },
  {
   "cell_type": "code",
   "execution_count": null,
   "metadata": {},
   "outputs": [],
   "source": [
    "df.dropna(inplace=True)\n",
    "print(\"Count\", df.count())"
   ]
  },
  {
   "cell_type": "code",
   "execution_count": null,
   "metadata": {},
   "outputs": [],
   "source": [
    "df"
   ]
  },
  {
   "cell_type": "code",
   "execution_count": null,
   "metadata": {},
   "outputs": [],
   "source": [
    "df.loc[df['Neighborhood'] == 'Not assigned', 'Neighborhood'] = df['Borough']\n",
    "df"
   ]
  },
  {
   "cell_type": "code",
   "execution_count": null,
   "metadata": {},
   "outputs": [],
   "source": [
    "dfgrouped = df.replace('Not assigned','').groupby([\"Postcode\",\"Borough\" ],as_index=False).agg(', '.join)\n",
    "dfgrouped"
   ]
  },
  {
   "cell_type": "code",
   "execution_count": null,
   "metadata": {},
   "outputs": [],
   "source": [
    "\n",
    "'''\n",
    "This is the first 10 elements of the list at Wikipedia today: December 11th, 2019. Note there is only one M5A Postcode in the list\n",
    "Postcode\tBorough\tNeighbourhood\n",
    "M1A\tNot assigned\tNot assigned\n",
    "M2A\tNot assigned\tNot assigned\n",
    "M3A\tNorth York\tParkwoods\n",
    "M4A\tNorth York\tVictoria Village\n",
    "M5A\tDowntown Toronto\tHarbourfront\n",
    "M6A\tNorth York\tLawrence Heights\n",
    "M6A\tNorth York\tLawrence Manor\n",
    "M7A\tQueen's Park\tNot assigned\n",
    "M8A\tNot assigned\tNot assigned\n",
    "M9A\tDowntown Toronto\tQueen's Park\n",
    "'''\n",
    "dfgrouped.loc[dfgrouped['Postcode'] == 'M5A' ]"
   ]
  },
  {
   "cell_type": "code",
   "execution_count": null,
   "metadata": {},
   "outputs": [],
   "source": [
    "dfgrouped"
   ]
  },
  {
   "cell_type": "markdown",
   "metadata": {},
   "source": [
    "##### To complete this assignment it was required to divide the work as follows: First retrieve the information in HTML, extract the table from the source code of the Wikipedia page, clean the fields, and then create a Panda dataframe. \n",
    "##### After that, I had to discard null and empty fields, as well as replace undefined neighborhood values. Since there are more neighborhoods that belong to the same postcode, we group them and concatenate the values (comma separated) neighborhoods. in the same field"
   ]
  },
  {
   "cell_type": "code",
   "execution_count": null,
   "metadata": {},
   "outputs": [],
   "source": [
    "dfgrouped.shape"
   ]
  }
 ],
 "metadata": {
  "kernelspec": {
   "display_name": "Python 3.6",
   "language": "python",
   "name": "python3"
  },
  "language_info": {
   "codemirror_mode": {
    "name": "ipython",
    "version": 3
   },
   "file_extension": ".py",
   "mimetype": "text/x-python",
   "name": "python",
   "nbconvert_exporter": "python",
   "pygments_lexer": "ipython3",
   "version": "3.6.8"
  }
 },
 "nbformat": 4,
 "nbformat_minor": 1
}
