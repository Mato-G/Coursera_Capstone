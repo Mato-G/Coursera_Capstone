{
    "cells": [
        {
            "cell_type": "code",
            "execution_count": null,
            "metadata": {},
            "outputs": [],
            "source": "import pandas as pd"
        },
        {
            "cell_type": "code",
            "execution_count": null,
            "metadata": {},
            "outputs": [],
            "source": "from bs4 import BeautifulSoup\nfrom urllib.request import urlopen\nimport requests \nfrom pandas.io.json import json_normalize\n\n!conda install -c conda-forge folium=0.5.0 --yes\nimport folium # plotting library\nprint('Folium installed')\nprint('Libraries imported.')"
        },
        {
            "cell_type": "code",
            "execution_count": null,
            "metadata": {},
            "outputs": [],
            "source": "url = 'https://en.wikipedia.org/wiki/List_of_postal_codes_of_Canada:_M'\nhtml = urlopen(url)\n\nsoup = BeautifulSoup(html, 'html.parser')\nsoup.title.text"
        },
        {
            "cell_type": "code",
            "execution_count": null,
            "metadata": {},
            "outputs": [],
            "source": "soup.table.tr.td"
        },
        {
            "cell_type": "code",
            "execution_count": null,
            "metadata": {},
            "outputs": [],
            "source": "#df = pd.DataFrame(soup.table)\nlst = []\ntable = soup.find_all('table')[0]\nrows = table.find_all('tr')\nfor tr in rows:\n    td = tr.find_all('td')\n    row = [tr.text.strip() for tr in td]\n    lst.append(row)\n    \ndf = pd.DataFrame(lst, columns=[\"Postcode\", \"Borough\",\"Neighborhood\"])\n\nprint(\"Count\", df.count())"
        },
        {
            "cell_type": "code",
            "execution_count": null,
            "metadata": {},
            "outputs": [],
            "source": "df.head()"
        },
        {
            "cell_type": "code",
            "execution_count": null,
            "metadata": {},
            "outputs": [],
            "source": "df = df[df[\"Borough\"] != \"Not assigned\" ]\nprint(\"Count\", df.count())\ndf.head(10)\n"
        },
        {
            "cell_type": "code",
            "execution_count": null,
            "metadata": {},
            "outputs": [],
            "source": "df.dropna(inplace=True)\nprint(\"Count\", df.count())"
        },
        {
            "cell_type": "code",
            "execution_count": null,
            "metadata": {},
            "outputs": [],
            "source": "df"
        },
        {
            "cell_type": "code",
            "execution_count": null,
            "metadata": {},
            "outputs": [],
            "source": "df.loc[df['Neighborhood'] == 'Not assigned', 'Neighborhood'] = df['Borough']\ndf"
        },
        {
            "cell_type": "code",
            "execution_count": null,
            "metadata": {},
            "outputs": [],
            "source": "dfgrouped = df.replace('Not assigned','').groupby([\"Postcode\",\"Borough\" ],as_index=False).agg(', '.join)\ndfgrouped"
        },
        {
            "cell_type": "code",
            "execution_count": null,
            "metadata": {},
            "outputs": [],
            "source": "\n'''\nThis is the first 10 elements of the list at Wikipedia today: December 11th, 2019. Note there is only one M5A Postcode in the list\nPostcode\tBorough\tNeighbourhood\nM1A\tNot assigned\tNot assigned\nM2A\tNot assigned\tNot assigned\nM3A\tNorth York\tParkwoods\nM4A\tNorth York\tVictoria Village\nM5A\tDowntown Toronto\tHarbourfront\nM6A\tNorth York\tLawrence Heights\nM6A\tNorth York\tLawrence Manor\nM7A\tQueen's Park\tNot assigned\nM8A\tNot assigned\tNot assigned\nM9A\tDowntown Toronto\tQueen's Park\n'''\ndfgrouped.loc[dfgrouped['Postcode'] == 'M5A' ]"
        },
        {
            "cell_type": "code",
            "execution_count": null,
            "metadata": {},
            "outputs": [],
            "source": "dfgrouped"
        },
        {
            "cell_type": "markdown",
            "metadata": {},
            "source": "##### To complete this assignment it was required to divide the work as follows: First retrieve the information in HTML, extract the table from the source code of the Wikipedia page, clean the fields, and then create a Panda dataframe. \n##### After that, I had to discard null and empty fields, as well as replace undefined neighborhood values. Since there are more neighborhoods that belong to the same postcode, we group them and concatenate the values (comma separated) neighborhoods. in the same field"
        },
        {
            "cell_type": "code",
            "execution_count": null,
            "metadata": {},
            "outputs": [],
            "source": "dfgrouped.shape"
        },
        {
            "cell_type": "code",
            "execution_count": null,
            "metadata": {},
            "outputs": [],
            "source": "dfgeo = pd.read_csv(\"https://cocl.us/Geospatial_data\")\ndfgeo.rename(columns={\"Postal Code\": \"Postcode\"}, inplace=True)\ndfgeo.head()"
        },
        {
            "cell_type": "code",
            "execution_count": null,
            "metadata": {},
            "outputs": [],
            "source": "dffinal = pd.merge(dfgrouped, dfgeo, on=\"Postcode\" )\ndffinal"
        },
        {
            "cell_type": "code",
            "execution_count": null,
            "metadata": {},
            "outputs": [],
            "source": ""
        },
        {
            "cell_type": "code",
            "execution_count": null,
            "metadata": {},
            "outputs": [],
            "source": "CLIENT_ID = 'KUE4RZE5CCZ0KWCQB05TQV3QNH1A2HTVEDMPQA1QK2C3OFGI' # your Foursquare ID\nCLIENT_SECRET = 'X3OAO0LG4GZG1KOKSAEZBBGB1ZPF4TGVU3GY4VQ3CZWOZTP0' # your Foursquare Secret\nVERSION = '20180604'\nLIMIT = 30\nprint('Your credentails:')\nprint('CLIENT_ID: ' + CLIENT_ID)\nprint('CLIENT_SECRET:' + CLIENT_SECRET)"
        },
        {
            "cell_type": "code",
            "execution_count": null,
            "metadata": {},
            "outputs": [],
            "source": "#search_query = 'Italian'\nradius = 500\n#print(search_query + ' .... OK!')"
        },
        {
            "cell_type": "code",
            "execution_count": null,
            "metadata": {},
            "outputs": [],
            "source": "latitude = dffinal[\"Latitude\"]\nlongitude = dffinal[\"Longitude\" ]\nprint(latitude, longitude)\n"
        },
        {
            "cell_type": "code",
            "execution_count": null,
            "metadata": {},
            "outputs": [],
            "source": "lst_results = []\nfor index, row in dffinal.iterrows():\n    latitude = row[\"Latitude\"]\n    longitude = row[\"Longitude\"]\n    url = 'https://api.foursquare.com/v2/venues/search?client_id={}&client_secret={}&ll={},{}&v={}&radius={}&limit={}'.format(CLIENT_ID, CLIENT_SECRET, latitude, longitude, VERSION, radius, LIMIT)\n    results = requests.get(url).json()\n    lst_results.append(results) \n    #print(url)\nlst_results"
        },
        {
            "cell_type": "code",
            "execution_count": null,
            "metadata": {},
            "outputs": [],
            "source": "venues = results['response']['venues']\n\n# tranform venues into a dataframe\ndataframe = json_normalize(venues)\ndataframe.head()"
        },
        {
            "cell_type": "code",
            "execution_count": null,
            "metadata": {},
            "outputs": [],
            "source": "filtered_columns = ['name', 'categories'] + [col for col in dataframe.columns if col.startswith('location.')] + ['id']\ndataframe_filtered = dataframe.loc[:, filtered_columns]\n\n# function that extracts the category of the venue\ndef get_category_type(row):\n    try:\n        categories_list = row['categories']\n    except:\n        categories_list = row['venue.categories']\n        \n    if len(categories_list) == 0:\n        return None\n    else:\n        return categories_list[0]['name']\n\n# filter the category for each row\ndataframe_filtered['categories'] = dataframe_filtered.apply(get_category_type, axis=1)\n\n# clean column names by keeping only last term\ndataframe_filtered.columns = [column.split('.')[-1] for column in dataframe_filtered.columns]\n\n\ndataframe_filtered"
        },
        {
            "cell_type": "code",
            "execution_count": null,
            "metadata": {},
            "outputs": [],
            "source": "#Initial values\nlatitude = 43.703940\nlongitude = -79.593130\n\nvenues_map = folium.Map(location=[latitude, longitude], zoom_start=12)\n\n# add a red circle marker to represent the initial position\nfolium.features.CircleMarker(\n    [latitude, longitude],\n    radius=10,\n    color='red',\n    popup='Initial Value',\n    fill = True,\n    fill_color = 'red',\n    fill_opacity = 0.6\n).add_to(venues_map)\n\n# add the venues as blue circle markers\nfor lat, lng, label in zip(dataframe_filtered.lat, dataframe_filtered.lng, dataframe_filtered.categories):\n    folium.features.CircleMarker(\n        [lat, lng],\n        radius=5,\n        color='blue',\n        popup= label,\n        fill = True,\n        fill_color='blue',\n        fill_opacity=0.6\n    ).add_to(venues_map)\n\n# display map\nvenues_map"
        },
        {
            "cell_type": "code",
            "execution_count": null,
            "metadata": {},
            "outputs": [],
            "source": ""
        },
        {
            "cell_type": "code",
            "execution_count": null,
            "metadata": {},
            "outputs": [],
            "source": ""
        },
        {
            "cell_type": "code",
            "execution_count": null,
            "metadata": {},
            "outputs": [],
            "source": ""
        }
    ],
    "metadata": {
        "kernelspec": {
            "display_name": "Python 3.6",
            "language": "python",
            "name": "python3"
        },
        "language_info": {
            "codemirror_mode": {
                "name": "ipython",
                "version": 3
            },
            "file_extension": ".py",
            "mimetype": "text/x-python",
            "name": "python",
            "nbconvert_exporter": "python",
            "pygments_lexer": "ipython3",
            "version": "3.6.8"
        }
    },
    "nbformat": 4,
    "nbformat_minor": 1
}